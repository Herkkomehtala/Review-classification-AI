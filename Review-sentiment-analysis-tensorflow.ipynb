{
 "cells": [
  {
   "cell_type": "markdown",
   "metadata": {},
   "source": [
    "# Text classification with Tensorflow\n",
    "\n",
    "Getting useful information from source text can be time-consuming.\n",
    "However, thanks to NLP (Natural Language Processing) and machine learning, text analysis can be made much easier!\n",
    "In this case, I will train a model with the help of Tensorflow to classify whether a review is positive or negative. To train the model, I will use free-to-use 'Disneyland reviews' -dataset from Kaggle. Link: https://www.kaggle.com/arushchillar/disneyland-reviews\n",
    "\n",
    "To do the sentiment analysis, I will have to:\n",
    "    - Create directory structure including sample files from the data.\n",
    "    - Train the neural network with the extracted data.\n",
    "    - Validate the operation of your trained model.\n",
    "Let's get started."
   ]
  },
  {
   "cell_type": "markdown",
   "metadata": {},
   "source": [
    "First, import all the necessary libraries. Read the csv file DisneylandReviews.csv into a data structure so we can handle it later."
   ]
  },
  {
   "cell_type": "code",
   "execution_count": 2,
   "metadata": {},
   "outputs": [],
   "source": [
    "#import libraries\n",
    "import pandas as pd\n",
    "import numpy as np\n",
    "import matplotlib.pyplot as plt\n",
    "import os\n",
    "import re\n",
    "import shutil\n",
    "import string\n",
    "import tensorflow as tf\n",
    "import csv\n",
    "from tensorflow.keras import layers, losses, preprocessing\n",
    "from tensorflow.keras.layers.experimental.preprocessing import TextVectorization"
   ]
  },
  {
   "cell_type": "code",
   "execution_count": 3,
   "metadata": {},
   "outputs": [
    {
     "data": {
      "text/html": [
       "<div>\n",
       "<style scoped>\n",
       "    .dataframe tbody tr th:only-of-type {\n",
       "        vertical-align: middle;\n",
       "    }\n",
       "\n",
       "    .dataframe tbody tr th {\n",
       "        vertical-align: top;\n",
       "    }\n",
       "\n",
       "    .dataframe thead th {\n",
       "        text-align: right;\n",
       "    }\n",
       "</style>\n",
       "<table border=\"1\" class=\"dataframe\">\n",
       "  <thead>\n",
       "    <tr style=\"text-align: right;\">\n",
       "      <th></th>\n",
       "      <th>Rating</th>\n",
       "      <th>Review_Text</th>\n",
       "    </tr>\n",
       "  </thead>\n",
       "  <tbody>\n",
       "    <tr>\n",
       "      <th>0</th>\n",
       "      <td>4</td>\n",
       "      <td>If you've ever been to Disneyland anywhere you...</td>\n",
       "    </tr>\n",
       "    <tr>\n",
       "      <th>1</th>\n",
       "      <td>4</td>\n",
       "      <td>Its been a while since d last time we visit HK...</td>\n",
       "    </tr>\n",
       "    <tr>\n",
       "      <th>2</th>\n",
       "      <td>4</td>\n",
       "      <td>Thanks God it wasn   t too hot or too humid wh...</td>\n",
       "    </tr>\n",
       "    <tr>\n",
       "      <th>3</th>\n",
       "      <td>4</td>\n",
       "      <td>HK Disneyland is a great compact park. Unfortu...</td>\n",
       "    </tr>\n",
       "    <tr>\n",
       "      <th>4</th>\n",
       "      <td>4</td>\n",
       "      <td>the location is not in the city, took around 1...</td>\n",
       "    </tr>\n",
       "    <tr>\n",
       "      <th>...</th>\n",
       "      <td>...</td>\n",
       "      <td>...</td>\n",
       "    </tr>\n",
       "    <tr>\n",
       "      <th>42651</th>\n",
       "      <td>5</td>\n",
       "      <td>i went to disneyland paris in july 03 and thou...</td>\n",
       "    </tr>\n",
       "    <tr>\n",
       "      <th>42652</th>\n",
       "      <td>5</td>\n",
       "      <td>2 adults and 1 child of 11 visited Disneyland ...</td>\n",
       "    </tr>\n",
       "    <tr>\n",
       "      <th>42653</th>\n",
       "      <td>5</td>\n",
       "      <td>My eleven year old daughter and myself went to...</td>\n",
       "    </tr>\n",
       "    <tr>\n",
       "      <th>42654</th>\n",
       "      <td>4</td>\n",
       "      <td>This hotel, part of the Disneyland Paris compl...</td>\n",
       "    </tr>\n",
       "    <tr>\n",
       "      <th>42655</th>\n",
       "      <td>4</td>\n",
       "      <td>I went to the Disneyparis resort, in 1996, wit...</td>\n",
       "    </tr>\n",
       "  </tbody>\n",
       "</table>\n",
       "<p>42656 rows × 2 columns</p>\n",
       "</div>"
      ],
      "text/plain": [
       "       Rating                                        Review_Text\n",
       "0           4  If you've ever been to Disneyland anywhere you...\n",
       "1           4  Its been a while since d last time we visit HK...\n",
       "2           4  Thanks God it wasn   t too hot or too humid wh...\n",
       "3           4  HK Disneyland is a great compact park. Unfortu...\n",
       "4           4  the location is not in the city, took around 1...\n",
       "...       ...                                                ...\n",
       "42651       5  i went to disneyland paris in july 03 and thou...\n",
       "42652       5  2 adults and 1 child of 11 visited Disneyland ...\n",
       "42653       5  My eleven year old daughter and myself went to...\n",
       "42654       4  This hotel, part of the Disneyland Paris compl...\n",
       "42655       4  I went to the Disneyparis resort, in 1996, wit...\n",
       "\n",
       "[42656 rows x 2 columns]"
      ]
     },
     "execution_count": 3,
     "metadata": {},
     "output_type": "execute_result"
    }
   ],
   "source": [
    "review_data = pd.read_csv('data_files\\DisneylandReviews.csv', delimiter=\",\")\n",
    "review_data.drop([\"Branch\", \"Reviewer_Location\", \"Year_Month\", \"Review_ID\"], inplace=True, axis=1)\n",
    "review_data"
   ]
  },
  {
   "cell_type": "markdown",
   "metadata": {},
   "source": [
    "Then we create the directory structure presented below. There should be *disney_review_data* directory which has two subdirectories: *train* and *test*. Both of those directories should then have two subdirectories: *pos* and *neg*.\n",
    "\n",
    "```\n",
    "disney_review_data\n",
    "    |\n",
    "    |----train\n",
    "    |      |----pos\n",
    "    |      |----neg\n",
    "    |\n",
    "    |----test\n",
    "           |----pos\n",
    "           |----neg\n",
    "```"
   ]
  },
  {
   "cell_type": "markdown",
   "metadata": {},
   "source": [
    "After that we loop through the saved data and save it as text files (.txt) into the directory structure. First 80 % of the data should go into *pos* and *neg* subdirectories under the *train* directory with the following conditions:\n",
    "- pos = rating is 4 or more\n",
    "- neg = rating is 2 or less\n",
    "\n",
    "The last 20 % should go into the *pos* and *neg* subdirectories under the *test* directory using the same conditions as above. They will be used later during the model's testing phase.\n",
    "\n",
    "Rating value of 3 is considered to be neutral and will not be processed."
   ]
  },
  {
   "cell_type": "code",
   "execution_count": 4,
   "metadata": {},
   "outputs": [],
   "source": [
    "# Function that writes ratings to their correct directory depending on its rating\n",
    "def writeReviews(df):\n",
    "    train_num = round(df.shape[0] * 0.8)\n",
    "    train_data = df[:train_num]\n",
    "    \n",
    "    #Seperate negative and positive reviews and write them to train directory\n",
    "    pos_mask = train_data[(train_data[\"Rating\"] >= 4)]\n",
    "    neg_mask = train_data[(train_data[\"Rating\"] <= 2)]\n",
    "    writeToFile(\"disney_review_data\\\\train\\\\pos\\\\\", pos_mask)\n",
    "    writeToFile(\"disney_review_data\\\\train\\\\neg\\\\\", neg_mask)\n",
    "    \n",
    "    #Same as above but for test directory\n",
    "    test_data = df[train_num:-1]\n",
    "    testPos_mask = test_data[(test_data[\"Rating\"] >= 4)]\n",
    "    testNeg_mask = test_data[(test_data[\"Rating\"] <= 2)]\n",
    "    writeToFile(\"disney_review_data\\\\test\\\\pos\\\\\", testPos_mask)\n",
    "    writeToFile(\"disney_review_data\\\\test\\\\neg\\\\\", testNeg_mask)\n",
    "\n",
    "# Function to write review texts to given path\n",
    "def writeToFile(path, df):\n",
    "    i = 0\n",
    "    for index, row in df.iterrows():\n",
    "        if i > len(df):\n",
    "            break\n",
    "        else:\n",
    "            f = open(path + str(i) + \"_\" +str(row[\"Rating\"]) + '.txt', 'w')\n",
    "            f.write(row[\"Review_Text\"])\n",
    "            f.close()\n",
    "            i+=1\n",
    "\n",
    "writeReviews(review_data)"
   ]
  },
  {
   "cell_type": "markdown",
   "metadata": {},
   "source": [
    "Next we implement the text classification model. The model will use the previously created Disneyland review data. I will run the notebook and ensure that no errors are present."
   ]
  },
  {
   "cell_type": "code",
   "execution_count": 5,
   "metadata": {},
   "outputs": [],
   "source": [
    "#Init params that are used more than once in this code\n",
    "batch_size = 32\n",
    "validation_split = 0.2\n",
    "seed = 42\n",
    "dataset_dir = 'disney_review_data'\n",
    "max_features = 10000"
   ]
  },
  {
   "cell_type": "code",
   "execution_count": 6,
   "metadata": {},
   "outputs": [
    {
     "data": {
      "text/plain": [
       "['neg', 'pos']"
      ]
     },
     "execution_count": 6,
     "metadata": {},
     "output_type": "execute_result"
    }
   ],
   "source": [
    "# Set train directory and check the content\n",
    "train_dir = os.path.join(dataset_dir, 'train')\n",
    "os.listdir(train_dir)"
   ]
  },
  {
   "cell_type": "code",
   "execution_count": 7,
   "metadata": {},
   "outputs": [
    {
     "name": "stdout",
     "output_type": "stream",
     "text": [
      "Found 30380 files belonging to 2 classes.\n",
      "Using 24304 files for training.\n"
     ]
    }
   ],
   "source": [
    "# Keras library has a method called text_dataset_from_directory which we will use for reading all text files from target directory.\n",
    "raw_train_ds = tf.keras.preprocessing.text_dataset_from_directory('disney_review_data/train', batch_size=batch_size, validation_split=validation_split, subset=\"training\", seed=seed)"
   ]
  },
  {
   "cell_type": "code",
   "execution_count": 8,
   "metadata": {},
   "outputs": [
    {
     "name": "stdout",
     "output_type": "stream",
     "text": [
      "Found 30380 files belonging to 2 classes.\n",
      "Using 6076 files for validation.\n"
     ]
    }
   ],
   "source": [
    "# Prepare the validation dataset with similar parameters like we did with the training dataset earlier\n",
    "raw_val_ds = tf.keras.preprocessing.text_dataset_from_directory('disney_review_data/train', batch_size=batch_size, validation_split=validation_split, subset='validation', seed=seed)"
   ]
  },
  {
   "cell_type": "code",
   "execution_count": 9,
   "metadata": {},
   "outputs": [
    {
     "name": "stdout",
     "output_type": "stream",
     "text": [
      "Found 7166 files belonging to 2 classes.\n"
     ]
    }
   ],
   "source": [
    "# For test dataset we are utilizing the whole dataset so no splitting is involved here\n",
    "raw_test_ds = tf.keras.preprocessing.text_dataset_from_directory('disney_review_data/test', batch_size=batch_size)"
   ]
  },
  {
   "cell_type": "code",
   "execution_count": 10,
   "metadata": {},
   "outputs": [],
   "source": [
    "# Function to sanitize text from unwanted HTML tags and such\n",
    "def custom_standardization(input_data):\n",
    "    lowercase = tf.strings.lower(input_data)\n",
    "    stripped_html = tf.strings.regex_replace(lowercase, '<br />', ' ')\n",
    "    return tf.strings.regex_replace(stripped_html,'[%s]' % re.escape(string.punctuation),'')"
   ]
  },
  {
   "cell_type": "markdown",
   "metadata": {},
   "source": [
    "After standardizing our text we move to the tokinization and vectorization phase. This tokenizes the words and transform the whole text into a series of integers."
   ]
  },
  {
   "cell_type": "code",
   "execution_count": 11,
   "metadata": {
    "tags": []
   },
   "outputs": [],
   "source": [
    "vectorize_layer = TextVectorization(\n",
    "    standardize=custom_standardization,\n",
    "    max_tokens=max_features,\n",
    "    output_mode='int',\n",
    "    output_sequence_length=250)"
   ]
  },
  {
   "cell_type": "code",
   "execution_count": 12,
   "metadata": {},
   "outputs": [],
   "source": [
    "# Map our training text dataset to our TextVectorization layer which will return the series of integers\n",
    "train_text = raw_train_ds.map(lambda x, y: x)\n",
    "vectorize_layer.adapt(train_text)"
   ]
  },
  {
   "cell_type": "code",
   "execution_count": 13,
   "metadata": {},
   "outputs": [],
   "source": [
    "# Function that we can use for checking how our text processing works.\n",
    "# also, we will use this function for processing the texts from our training, validation and test datasets.\n",
    "def vectorize_text(text, label):\n",
    "    text = tf.expand_dims(text, -1)\n",
    "    return vectorize_layer(text), label"
   ]
  },
  {
   "cell_type": "code",
   "execution_count": 14,
   "metadata": {},
   "outputs": [
    {
     "name": "stdout",
     "output_type": "stream",
     "text": [
      "Review tf.Tensor(b\"I think, everyone who knows Disney characters in their childhood days should love this park. When I came here, I spent about 9 hours in several zones. One zone comprises of a lot of amusements, so I think anyone would not leave a zone in less than 1,5 hours. Merchandise shops and food courts are everywhere. Don't forget to experience Philharmagic show and the rollercoasters. Make sure you watch the firework (by the time I arrived, I failed to catch the firework due to bad weather, all day). The food: If you could stand not eating all day, it would be good, because the foods are quite expensive (if we compare the price and the delicacy). The staffs: Overall are good, but some of them may not be able to speak English at all.\", shape=(), dtype=string)\n",
      "Label pos\n",
      "Vectorized review (<tf.Tensor: shape=(1, 250), dtype=int64, numpy=\n",
      "array([[  14,  204,  216,  176, 1523,   26,  126,    8,  130,  655,   95,\n",
      "         264,  121,   34,   15,   59,   14,  379,  115,   14,  228,   84,\n",
      "         560,  183,    8,  380, 3312,   43, 2007,    1,    6,    5,  145,\n",
      "           6, 3572,   27,   14,  204,  598,   58,   32,  426,    5, 2007,\n",
      "           8,  255,   79,  357,  183,  855,  396,    3,   60, 7238,   20,\n",
      "         506,  112,  568,    4,   88, 2335,  107,    3,    2, 2254,  135,\n",
      "         166,   13,  359,    2,  689,   90,    2,   31,   14,  453,   14,\n",
      "        3448,    4,  881,    2,  689,  370,    4,  301,  320,   33,   30,\n",
      "           2,   60,   41,   13,  136,  502,   32,  796,   33,   30,   10,\n",
      "          58,   36,   65,  144,    2, 1380,   20,  243,  157,   41,    7,\n",
      "         862,    2,  322,    3,    2,    1,    2, 2253,  358,   20,   65,\n",
      "          17,   63,    6,  127,  317,   32,   36,  208,    4, 1348,  728,\n",
      "          16,   33,    0,    0,    0,    0,    0,    0,    0,    0,    0,\n",
      "           0,    0,    0,    0,    0,    0,    0,    0,    0,    0,    0,\n",
      "           0,    0,    0,    0,    0,    0,    0,    0,    0,    0,    0,\n",
      "           0,    0,    0,    0,    0,    0,    0,    0,    0,    0,    0,\n",
      "           0,    0,    0,    0,    0,    0,    0,    0,    0,    0,    0,\n",
      "           0,    0,    0,    0,    0,    0,    0,    0,    0,    0,    0,\n",
      "           0,    0,    0,    0,    0,    0,    0,    0,    0,    0,    0,\n",
      "           0,    0,    0,    0,    0,    0,    0,    0,    0,    0,    0,\n",
      "           0,    0,    0,    0,    0,    0,    0,    0,    0,    0,    0,\n",
      "           0,    0,    0,    0,    0,    0,    0,    0,    0,    0,    0,\n",
      "           0,    0,    0,    0,    0,    0,    0,    0]], dtype=int64)>, <tf.Tensor: shape=(), dtype=int32, numpy=1>)\n"
     ]
    }
   ],
   "source": [
    "# Check how data is processed into vectorized format (array of integers)\n",
    "text_batch, label_batch = next(iter(raw_train_ds))\n",
    "test_review, test_label = text_batch[0], label_batch[0]\n",
    "print(\"Review\", test_review)\n",
    "print(\"Label\", raw_train_ds.class_names[test_label])\n",
    "print(\"Vectorized review\", vectorize_text(test_review, test_label))"
   ]
  },
  {
   "cell_type": "code",
   "execution_count": 15,
   "metadata": {},
   "outputs": [
    {
     "name": "stdout",
     "output_type": "stream",
     "text": [
      "2 --->  the\n",
      "7 --->  we\n",
      "10 --->  it\n",
      "Vocabulary size: 10000\n"
     ]
    }
   ],
   "source": [
    "# Examples from the output array are presented below\n",
    "print(\"2 ---> \",vectorize_layer.get_vocabulary()[2])\n",
    "print(\"7 ---> \",vectorize_layer.get_vocabulary()[7])\n",
    "print(\"10 ---> \",vectorize_layer.get_vocabulary()[10])\n",
    "print('Vocabulary size: {}'.format(len(vectorize_layer.get_vocabulary())))"
   ]
  },
  {
   "cell_type": "code",
   "execution_count": 16,
   "metadata": {},
   "outputs": [],
   "source": [
    "# Before moving into the training step, we will apply the TextVectorization layer for all our three datasets\n",
    "train_ds = raw_train_ds.map(vectorize_text)\n",
    "val_ds = raw_val_ds.map(vectorize_text)\n",
    "test_ds = raw_test_ds.map(vectorize_text)"
   ]
  },
  {
   "cell_type": "code",
   "execution_count": 17,
   "metadata": {},
   "outputs": [
    {
     "name": "stdout",
     "output_type": "stream",
     "text": [
      "Model: \"sequential\"\n",
      "_________________________________________________________________\n",
      "Layer (type)                 Output Shape              Param #   \n",
      "=================================================================\n",
      "embedding (Embedding)        (None, None, 16)          160016    \n",
      "_________________________________________________________________\n",
      "dropout (Dropout)            (None, None, 16)          0         \n",
      "_________________________________________________________________\n",
      "global_average_pooling1d (Gl (None, 16)                0         \n",
      "_________________________________________________________________\n",
      "dropout_1 (Dropout)          (None, 16)                0         \n",
      "_________________________________________________________________\n",
      "dense (Dense)                (None, 1)                 17        \n",
      "=================================================================\n",
      "Total params: 160,033\n",
      "Trainable params: 160,033\n",
      "Non-trainable params: 0\n",
      "_________________________________________________________________\n"
     ]
    }
   ],
   "source": [
    "model = tf.keras.Sequential([\n",
    "  layers.Embedding(max_features + 1, 16),\n",
    "  layers.Dropout(0.2),\n",
    "  layers.GlobalAveragePooling1D(),\n",
    "  layers.Dropout(0.2),\n",
    "  layers.Dense(1)])\n",
    "\n",
    "model.summary()"
   ]
  },
  {
   "cell_type": "markdown",
   "metadata": {},
   "source": [
    "Now that the text vectorialization and layer is done, we proceed to compile our model"
   ]
  },
  {
   "cell_type": "code",
   "execution_count": 18,
   "metadata": {},
   "outputs": [],
   "source": [
    "model.compile(loss=losses.BinaryCrossentropy(from_logits=True), optimizer='adam', metrics=tf.metrics.BinaryAccuracy(threshold=0.0))"
   ]
  },
  {
   "cell_type": "markdown",
   "metadata": {},
   "source": [
    "We're ready to train the model using the validation dataset (val_ds). We will do 15 epochs for the whole dataset."
   ]
  },
  {
   "cell_type": "code",
   "execution_count": 19,
   "metadata": {},
   "outputs": [
    {
     "name": "stdout",
     "output_type": "stream",
     "text": [
      "Epoch 1/15\n",
      "760/760 [==============================] - 39s 52ms/step - loss: 0.3244 - binary_accuracy: 0.9202 - val_loss: 0.2548 - val_binary_accuracy: 0.9218\n",
      "Epoch 2/15\n",
      "760/760 [==============================] - 17s 22ms/step - loss: 0.2508 - binary_accuracy: 0.9203 - val_loss: 0.2428 - val_binary_accuracy: 0.9218.2529 - bi\n",
      "Epoch 3/15\n",
      "760/760 [==============================] - 16s 21ms/step - loss: 0.2354 - binary_accuracy: 0.9205 - val_loss: 0.2273 - val_binary_accuracy: 0.9226\n",
      "Epoch 4/15\n",
      "760/760 [==============================] - 17s 23ms/step - loss: 0.2164 - binary_accuracy: 0.9239 - val_loss: 0.2078 - val_binary_accuracy: 0.9268\n",
      "Epoch 5/15\n",
      "760/760 [==============================] - 18s 24ms/step - loss: 0.1945 - binary_accuracy: 0.9316 - val_loss: 0.1867 - val_binary_accuracy: 0.9329\n",
      "Epoch 6/15\n",
      "760/760 [==============================] - 16s 22ms/step - loss: 0.1709 - binary_accuracy: 0.9376 - val_loss: 0.1681 - val_binary_accuracy: 0.9373\n",
      "Epoch 7/15\n",
      "760/760 [==============================] - 17s 22ms/step - loss: 0.1530 - binary_accuracy: 0.9428 - val_loss: 0.1535 - val_binary_accuracy: 0.9427\n",
      "Epoch 8/15\n",
      "760/760 [==============================] - 17s 23ms/step - loss: 0.1383 - binary_accuracy: 0.9477 - val_loss: 0.1426 - val_binary_accuracy: 0.9468\n",
      "Epoch 9/15\n",
      "760/760 [==============================] - 16s 21ms/step - loss: 0.1258 - binary_accuracy: 0.9526 - val_loss: 0.1347 - val_binary_accuracy: 0.9500\n",
      "Epoch 10/15\n",
      "760/760 [==============================] - 16s 21ms/step - loss: 0.1166 - binary_accuracy: 0.9553 - val_loss: 0.1289 - val_binary_accuracy: 0.9505\n",
      "Epoch 11/15\n",
      "760/760 [==============================] - 20s 26ms/step - loss: 0.1089 - binary_accuracy: 0.9589 - val_loss: 0.1247 - val_binary_accuracy: 0.9510\n",
      "Epoch 12/15\n",
      "760/760 [==============================] - 18s 24ms/step - loss: 0.1021 - binary_accuracy: 0.9609 - val_loss: 0.1217 - val_binary_accuracy: 0.9528\n",
      "Epoch 13/15\n",
      "760/760 [==============================] - 16s 21ms/step - loss: 0.0966 - binary_accuracy: 0.9638 - val_loss: 0.1196 - val_binary_accuracy: 0.9546\n",
      "Epoch 14/15\n",
      "760/760 [==============================] - 15s 20ms/step - loss: 0.0921 - binary_accuracy: 0.9667 - val_loss: 0.1181 - val_binary_accuracy: 0.9556\n",
      "Epoch 15/15\n",
      "760/760 [==============================] - 15s 20ms/step - loss: 0.0877 - binary_accuracy: 0.9684 - val_loss: 0.1173 - val_binary_accuracy: 0.9554\n"
     ]
    }
   ],
   "source": [
    "history = model.fit(train_ds, validation_data=val_ds, epochs=15)"
   ]
  },
  {
   "cell_type": "code",
   "execution_count": 20,
   "metadata": {},
   "outputs": [
    {
     "name": "stdout",
     "output_type": "stream",
     "text": [
      "224/224 [==============================] - 29s 130ms/step - loss: 0.1699 - binary_accuracy: 0.9332\n",
      "Loss:  0.16993315517902374\n",
      "Accuracy:  0.9331565499305725\n"
     ]
    }
   ],
   "source": [
    "# Loss indicates how bad our model's prediction was and accuracy value tells how often our model gave the correct prediction compared to true data.\n",
    "loss, accuracy = model.evaluate(test_ds)\n",
    "print(\"Loss: \", loss)\n",
    "print(\"Accuracy: \", accuracy)"
   ]
  },
  {
   "cell_type": "markdown",
   "metadata": {},
   "source": [
    "After training, I want to visualize the loss and accuracy of our model."
   ]
  },
  {
   "cell_type": "code",
   "execution_count": 21,
   "metadata": {},
   "outputs": [
    {
     "data": {
      "image/png": "[encoded data removed]",
      "text/plain": [
       "<Figure size 432x288 with 1 Axes>"
      ]
     },
     "metadata": {
      "needs_background": "light"
     },
     "output_type": "display_data"
    },
    {
     "data": {
      "image/png": "[encoded data removed]",
      "text/plain": [
       "<Figure size 432x288 with 1 Axes>"
      ]
     },
     "metadata": {
      "needs_background": "light"
     },
     "output_type": "display_data"
    }
   ],
   "source": [
    "history_dict = history.history\n",
    "history_dict.keys()\n",
    "\n",
    "acc = history_dict['binary_accuracy']\n",
    "val_acc = history_dict['val_binary_accuracy']\n",
    "loss = history_dict['loss']\n",
    "val_loss = history_dict['val_loss']\n",
    "\n",
    "epochs = range(1, len(acc) + 1)\n",
    "\n",
    "# \"bo\" is for \"blue dot\"\n",
    "plt.plot(epochs, loss, 'bo', label='Training loss')\n",
    "# b is for \"solid blue line\"\n",
    "plt.plot(epochs, val_loss, 'b', label='Validation loss')\n",
    "plt.title('Training and validation loss')\n",
    "plt.xlabel('Epochs')\n",
    "plt.ylabel('Loss')\n",
    "plt.legend()\n",
    "\n",
    "plt.show()\n",
    "\n",
    "\n",
    "plt.plot(epochs, acc, 'bo', label='Training acc')\n",
    "plt.plot(epochs, val_acc, 'b', label='Validation acc')\n",
    "plt.title('Training and validation accuracy')\n",
    "plt.xlabel('Epochs')\n",
    "plt.ylabel('Accuracy')\n",
    "plt.legend(loc='lower right')\n",
    "\n",
    "plt.show()"
   ]
  },
  {
   "cell_type": "markdown",
   "metadata": {},
   "source": [
    "Now we can create some test data to verify that your model works!"
   ]
  },
  {
   "cell_type": "code",
   "execution_count": 22,
   "metadata": {},
   "outputs": [
    {
     "name": "stdout",
     "output_type": "stream",
     "text": [
      "224/224 [==============================] - 3s 15ms/step - loss: 0.1699 - accuracy: 0.9332\n",
      "0.9331565499305725\n"
     ]
    }
   ],
   "source": [
    "export_model = tf.keras.Sequential([\n",
    "  vectorize_layer,\n",
    "  model,\n",
    "  layers.Activation('sigmoid')\n",
    "])\n",
    "\n",
    "export_model.compile(\n",
    "    loss=losses.BinaryCrossentropy(from_logits=False), optimizer=\"adam\", metrics=['accuracy']\n",
    ")\n",
    "\n",
    "loss, accuracy = export_model.evaluate(raw_test_ds)\n",
    "print(accuracy)"
   ]
  },
  {
   "cell_type": "code",
   "execution_count": 23,
   "metadata": {},
   "outputs": [
    {
     "data": {
      "text/plain": [
       "array([[0.9618225 ],\n",
       "       [0.9185215 ],\n",
       "       [0.8779759 ],\n",
       "       [0.87797284],\n",
       "       [0.9784395 ],\n",
       "       [0.7261934 ]], dtype=float32)"
      ]
     },
     "execution_count": 23,
     "metadata": {},
     "output_type": "execute_result"
    }
   ],
   "source": [
    "examples = [\n",
    "  \"The park was good. I liked it.\",\n",
    "  \"The park was okay. However, not as good as I thought it would be.\",\n",
    "  \"I went to the disney park yesterday. It was so crowded and smelly...\",\n",
    "  \"The park was horrible...\",\n",
    "  \"The park was the best park I've ever been to! Great sights! Unbelievable scenery throughout the park\",\n",
    "  \"I did not like the park and I won't recommend it to anyone! DO NOT GO! One of the worst disney parks i've been to.\"\n",
    "]\n",
    "\n",
    "results = export_model.predict(examples)\n",
    "results"
   ]
  },
  {
   "cell_type": "markdown",
   "metadata": {},
   "source": [
    "The model gives points to the examples based on its previous training. **Note:** The model has not seen these examples before."
   ]
  },
  {
   "cell_type": "markdown",
   "metadata": {},
   "source": [
    "The points the model gives can be normalized further so they don't gravitate so heavily towards 1.0, however even without that the model succesfully can differentiate between negative and positive reviews on most cases. The cutoff between positive and negative review is somewhere around 0.90 "
   ]
  }
 ],
 "metadata": {
  "kernelspec": {
   "display_name": "Python 3",
   "language": "python",
   "name": "python3"
  },
  "language_info": {
   "codemirror_mode": {
    "name": "ipython",
    "version": 3
   },
   "file_extension": ".py",
   "mimetype": "text/x-python",
   "name": "python",
   "nbconvert_exporter": "python",
   "pygments_lexer": "ipython3",
   "version": "3.8.8"
  }
 },
 "nbformat": 4,
 "nbformat_minor": 4
}
